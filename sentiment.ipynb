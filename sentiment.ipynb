{
 "cells": [
  {
   "cell_type": "code",
   "execution_count": 81,
   "metadata": {},
   "outputs": [],
   "source": [
    "import pandas as pd\n",
    "from textblob import TextBlob\n",
    "import matplotlib.pyplot as plt\n",
    "from datetime import datetime\n"
   ]
  },
  {
   "cell_type": "code",
   "execution_count": 82,
   "metadata": {},
   "outputs": [],
   "source": [
    "dat = pd.read_json(\"gg{}.json\".format(2013))\n",
    "dat2 = pd.read_json(\"gg{}.json\".format(2015))"
   ]
  },
  {
   "cell_type": "code",
   "execution_count": 85,
   "metadata": {},
   "outputs": [],
   "source": [
    "def getsenti(text):\n",
    "    return TextBlob(text).sentiment[0]\n",
    "def categorize(num):\n",
    "    if num == 0.00:\n",
    "        return \"neutral\"\n",
    "    elif num <= 1.00 and num > 0.50:\n",
    "        return \"very positive\"\n",
    "    elif num <= 0.50 and num > 0.00:\n",
    "        return \"slightly positive\"\n",
    "    elif num < 0.00 and num > -0.50:\n",
    "        return \"slightly negative\"\n",
    "    else:\n",
    "        return \"very negative\"\n",
    "\n",
    "##2013 \n",
    "dat[\"sentiment\"] = dat[\"text\"].apply(getsenti)\n",
    "dat['category'] = dat[\"sentiment\"].apply(categorize)"
   ]
  },
  {
   "cell_type": "code",
   "execution_count": 87,
   "metadata": {},
   "outputs": [],
   "source": [
    "##2015\n",
    "dat2[\"sentiment\"] = dat2[\"text\"].apply(getsenti)\n",
    "dat2['category'] = dat2[\"sentiment\"].apply(categorize)"
   ]
  },
  {
   "cell_type": "code",
   "execution_count": 114,
   "metadata": {},
   "outputs": [],
   "source": [
    "##dividing the timestamps into 4 chunks of 1 hour intervals\n",
    "\n",
    "#2013\n",
    "t1 = datetime.strptime(\"Jan 14 00:45:00 2013\", \"%b %d %H:%M:%S %Y\")\n",
    "t2 = datetime.strptime(\"Jan 14 01:45:00 2013\", \"%b %d %H:%M:%S %Y\")\n",
    "t3 = datetime.strptime(\"Jan 14 02:45:00 2013\", \"%b %d %H:%M:%S %Y\")\n",
    "t4 = datetime.strptime(\"Jan 14 03:45:00 2013\", \"%b %d %H:%M:%S %Y\")\n",
    "t5 = datetime.strptime(\"Jan 14 04:45:00 2013\", \"%b %d %H:%M:%S %Y\")\n",
    "\n",
    "#2015\n",
    "t11 = datetime.strptime(\"Jan 11 22:20:00 2015\", \"%b %d %H:%M:%S %Y\")\n",
    "t21 = datetime.strptime(\"Jan 11 23:20:00 2015\", \"%b %d %H:%M:%S %Y\")\n",
    "t31 = datetime.strptime(\"Jan 12 00:20:00 2015\", \"%b %d %H:%M:%S %Y\")\n",
    "t41 = datetime.strptime(\"Jan 12 01:20:00 2015\", \"%b %d %H:%M:%S %Y\")\n",
    "t51 = datetime.strptime(\"Jan 12 02:20:00 2015\", \"%b %d %H:%M:%S %Y\")\n",
    "t61 = datetime.strptime(\"Jan 12 03:20:00 2015\", \"%b %d %H:%M:%S %Y\")\n",
    "t71 = datetime.strptime(\"Jan 12 04:20:00 2015\", \"%b %d %H:%M:%S %Y\")\n",
    "t81 = datetime.strptime(\"Jan 12 05:20:00 2015\", \"%b %d %H:%M:%S %Y\")\n",
    "t91 = datetime.strptime(\"Jan 12 06:20:00 2015\", \"%b %d %H:%M:%S %Y\")\n",
    "t101 = datetime.strptime(\"Jan 12 07:20:00 2015\", \"%b %d %H:%M:%S %Y\")\n",
    "t102 = datetime.strptime(\"Jan 12 08:20:00 2015\", \"%b %d %H:%M:%S %Y\")"
   ]
  },
  {
   "cell_type": "code",
   "execution_count": null,
   "metadata": {},
   "outputs": [],
   "source": [
    "def hourconvert(tm):\n",
    "    if max(tm, t1) == tm and max(tm,t2) == t2:\n",
    "        result = \"0:45:00 - 1:45:00\"\n",
    "        return(result)\n",
    "    elif max(tm, t2) == tm and max(tm,t3) == t3:\n",
    "        result = \"1:45:00 - 2:45:00\"\n",
    "        return(result)\n",
    "    elif max(tm, t3) == tm and max(tm,t4) == t4:\n",
    "        result = \"2:45:00 - 3:45:00\"\n",
    "        return(result)\n",
    "    elif max(tm, t4) == tm and max(tm,t5) == t5:\n",
    "        result = \"3:45:00 - 4:45:00\"\n",
    "        return(result)\n",
    "\n",
    "##2013\n",
    "dat['timestamp_ms']=dat['timestamp_ms'].apply(hourconvert)"
   ]
  },
  {
   "cell_type": "code",
   "execution_count": 155,
   "metadata": {},
   "outputs": [],
   "source": [
    "def hourconvert(tm):\n",
    "    if max(tm, t11) == tm and max(tm,t21) == t21:\n",
    "        result = \"22:20:00 - 23:20:00\"\n",
    "        return(result)\n",
    "    elif max(tm, t21) == tm and max(tm,t31) == t31:\n",
    "        result = \"23:20:00 - 00:20:00\"\n",
    "        return(result)\n",
    "    elif max(tm, t31) == tm and max(tm,t41) == t41:\n",
    "        result = \"0:20:00 - 1:20:00\"\n",
    "        return(result)\n",
    "    elif max(tm, t41) == tm and max(tm,t51) == t51:\n",
    "        result = \"1:20:00 - 2:20:00\"\n",
    "        return(result)\n",
    "    elif max(tm, t51) == tm and max(tm,t61) == t61:\n",
    "        result = \"2:20:00 - 3:20:00\"\n",
    "        return(result)\n",
    "    elif max(tm, t61) == tm and max(tm,t71) == t71:\n",
    "        result = \"3:20:00 - 4:20:00\"\n",
    "        return(result)\n",
    "    elif max(tm, t71) == tm and max(tm,t81) == t81:\n",
    "        result = \"4:20:00 - 5:20:00\"\n",
    "        return(result)\n",
    "    elif max(tm, t81) == tm and max(tm,t91) == t91:\n",
    "        result = \"5:20:00 - 6:20:00\"\n",
    "        return(result)\n",
    "    elif max(tm, t91) == tm and max(tm,t101) == t101:\n",
    "        result = \"6:20:00 - 7:20:00\"\n",
    "        return(result)\n",
    "    elif max(tm, t101) == tm and max(tm,t102) == t102:\n",
    "        result = \"7:20:00 - 8:20:00\"\n",
    "        return(result)\n",
    "\n",
    "##2015\n",
    "dat2['timestamp_ms']=dat2['timestamp_ms'].apply(hourconvert)"
   ]
  },
  {
   "cell_type": "code",
   "execution_count": 117,
   "metadata": {},
   "outputs": [],
   "source": [
    "#2013\n",
    "time1 = dat[dat.timestamp_ms == \"0:45:00 - 1:45:00\"].copy()\n",
    "time2 = dat[dat.timestamp_ms == \"1:45:00 - 2:45:00\"].copy()\n",
    "time3 = dat[dat.timestamp_ms == \"2:45:00 - 3:45:00\"].copy()\n",
    "time4 = dat[dat.timestamp_ms == \"3:45:00 - 4:45:00\"].copy()\n",
    "\n",
    "time1_n = len(time1[time1.category == \"neutral\"].copy())\n",
    "time1_sp = len(time1[time1.category == \"slightly positive\"].copy())\n",
    "time1_vp = len(time1[time1.category == \"very positive\"].copy())\n",
    "time1_sn = len(time1[time1.category == \"slightly negative\"].copy())\n",
    "time1_vn = len(time1[time1.category == \"very negative\"].copy())\n",
    "\n",
    "time2_n = len(time2[time2.category == \"neutral\"].copy())\n",
    "time2_sp = len(time2[time2.category == \"slightly positive\"].copy())\n",
    "time2_vp = len(time2[time2.category == \"very positive\"].copy())\n",
    "time2_sn = len(time2[time2.category == \"slightly negative\"].copy())\n",
    "time2_vn = len(time2[time2.category == \"very negative\"].copy())\n",
    "\n",
    "time3_n = len(time3[time3.category == \"neutral\"].copy())\n",
    "time3_sp = len(time3[time3.category == \"slightly positive\"].copy())\n",
    "time3_vp = len(time3[time3.category == \"very positive\"].copy())\n",
    "time3_sn = len(time3[time3.category == \"slightly negative\"].copy())\n",
    "time3_vn = len(time3[time3.category == \"very negative\"].copy())\n",
    "\n",
    "time4_n = len(time4[time4.category == \"neutral\"].copy())\n",
    "time4_sp = len(time4[time4.category == \"slightly positive\"].copy())\n",
    "time4_vp = len(time4[time4.category == \"very positive\"].copy())\n",
    "time4_sn = len(time4[time4.category == \"slightly negative\"].copy())\n",
    "time4_vn = len(time4[time4.category == \"very negative\"].copy())"
   ]
  },
  {
   "cell_type": "code",
   "execution_count": 157,
   "metadata": {},
   "outputs": [],
   "source": [
    "#2015\n",
    "time11 = dat2[dat2.timestamp_ms == \"22:20:00 - 23:20:00\"].copy()\n",
    "time21 = dat2[dat2.timestamp_ms == \"23:20:00 - 00:20:00\"].copy()\n",
    "time31 = dat2[dat2.timestamp_ms == \"0:20:00 - 1:20:00\"].copy()\n",
    "time41 = dat2[dat2.timestamp_ms == \"1:20:00 - 2:20:00\"].copy()\n",
    "time51 = dat2[dat2.timestamp_ms == \"2:20:00 - 3:20:00\"].copy()\n",
    "time61 = dat2[dat2.timestamp_ms == \"3:20:00 - 4:20:00\"].copy()\n",
    "time71 = dat2[dat2.timestamp_ms == \"4:20:00 - 5:20:00\"].copy()\n",
    "time81 = dat2[dat2.timestamp_ms == \"5:20:00 - 6:20:00\"].copy()\n",
    "time91 = dat2[dat2.timestamp_ms == \"6:20:00 - 7:20:00\"].copy()\n",
    "time101 = dat2[dat2.timestamp_ms == \"7:20:00 - 8:20:00\"].copy()\n",
    "\n",
    "time11_n = len(time11[time11.category == \"neutral\"].copy())\n",
    "time11_sp = len(time11[time11.category == \"slightly positive\"].copy())\n",
    "time11_vp = len(time11[time11.category == \"very positive\"].copy())\n",
    "time11_sn = len(time11[time11.category == \"slightly negative\"].copy())\n",
    "time11_vn = len(time11[time11.category == \"very negative\"].copy())\n",
    "\n",
    "time21_n = len(time21[time21.category == \"neutral\"].copy())\n",
    "time21_sp = len(time21[time21.category == \"slightly positive\"].copy())\n",
    "time21_vp = len(time21[time21.category == \"very positive\"].copy())\n",
    "time21_sn = len(time21[time21.category == \"slightly negative\"].copy())\n",
    "time21_vn = len(time21[time21.category == \"very negative\"].copy())\n",
    "\n",
    "time31_n = len(time31[time31.category == \"neutral\"].copy())\n",
    "time31_sp = len(time31[time31.category == \"slightly positive\"].copy())\n",
    "time31_vp = len(time31[time31.category == \"very positive\"].copy())\n",
    "time31_sn = len(time31[time31.category == \"slightly negative\"].copy())\n",
    "time31_vn = len(time31[time31.category == \"very negative\"].copy())\n",
    "\n",
    "time41_n = len(time41[time41.category == \"neutral\"].copy())\n",
    "time41_sp = len(time41[time41.category == \"slightly positive\"].copy())\n",
    "time41_vp = len(time41[time41.category == \"very positive\"].copy())\n",
    "time41_sn = len(time41[time41.category == \"slightly negative\"].copy())\n",
    "time41_vn = len(time41[time41.category == \"very negative\"].copy())\n",
    "\n",
    "time51_n = len(time51[time51.category == \"neutral\"].copy())\n",
    "time51_sp = len(time51[time51.category == \"slightly positive\"].copy())\n",
    "time51_vp = len(time51[time51.category == \"very positive\"].copy())\n",
    "time51_sn = len(time51[time51.category == \"slightly negative\"].copy())\n",
    "time51_vn = len(time51[time51.category == \"very negative\"].copy())\n",
    "\n",
    "time61_n = len(time61[time61.category == \"neutral\"].copy())\n",
    "time61_sp = len(time61[time61.category == \"slightly positive\"].copy())\n",
    "time61_vp = len(time61[time61.category == \"very positive\"].copy())\n",
    "time61_sn = len(time61[time61.category == \"slightly negative\"].copy())\n",
    "time61_vn = len(time61[time61.category == \"very negative\"].copy())\n",
    "\n",
    "time71_n = len(time71[time71.category == \"neutral\"].copy())\n",
    "time71_sp = len(time71[time71.category == \"slightly positive\"].copy())\n",
    "time71_vp = len(time71[time71.category == \"very positive\"].copy())\n",
    "time71_sn = len(time71[time71.category == \"slightly negative\"].copy())\n",
    "time71_vn = len(time71[time71.category == \"very negative\"].copy())\n",
    "\n",
    "time81_n = len(time81[time81.category == \"neutral\"].copy())\n",
    "time81_sp = len(time81[time81.category == \"slightly positive\"].copy())\n",
    "time81_vp = len(time81[time81.category == \"very positive\"].copy())\n",
    "time81_sn = len(time81[time81.category == \"slightly negative\"].copy())\n",
    "time81_vn = len(time81[time81.category == \"very negative\"].copy())\n",
    "\n",
    "time91_n = len(time91[time91.category == \"neutral\"].copy())\n",
    "time91_sp = len(time91[time91.category == \"slightly positive\"].copy())\n",
    "time91_vp = len(time91[time91.category == \"very positive\"].copy())\n",
    "time91_sn = len(time91[time91.category == \"slightly negative\"].copy())\n",
    "time91_vn = len(time91[time91.category == \"very negative\"].copy())\n",
    "\n",
    "time101_n = len(time101[time101.category == \"neutral\"].copy())\n",
    "time101_sp = len(time101[time101.category == \"slightly positive\"].copy())\n",
    "time101_vp = len(time101[time101.category == \"very positive\"].copy())\n",
    "time101_sn = len(time101[time101.category == \"slightly negative\"].copy())\n",
    "time101_vn = len(time101[time101.category == \"very negative\"].copy())"
   ]
  },
  {
   "cell_type": "code",
   "execution_count": 119,
   "metadata": {},
   "outputs": [
    {
     "data": {
      "image/png": "[encoded data removed]",
      "text/plain": [
       "<Figure size 432x288 with 1 Axes>"
      ]
     },
     "metadata": {
      "needs_background": "light"
     },
     "output_type": "display_data"
    }
   ],
   "source": [
    "width = 0.35 \n",
    "\n",
    "fig, ax = plt.subplots()\n",
    "\n",
    "timestamps = [\"0:45:00 - 1:45:00\",\"1:45:00 - 2:45:00\",\"2:45:00 - 3:45:00\",\"3:45:00 - 4:45:00\"]\n",
    "neutral = [time1_n, time2_n,time3_n,time4_n]\n",
    "spos = [time1_sp, time2_sp,time3_sp,time4_sp]\n",
    "vpos = [time1_vp, time2_vp,time3_vp,time4_vp]\n",
    "sneg = [time1_sn, time2_sn,time3_sn,time4_sn]\n",
    "vneg = [time1_vn, time2_vn,time3_vn,time4_vn]\n",
    "\n",
    "ax.bar(timestamps, neutral, width, label='neutral')\n",
    "ax.bar(timestamps, spos, width, label='slightly positive')\n",
    "ax.bar(timestamps, vpos, width, label='very positive')\n",
    "ax.bar(timestamps, sneg, width, label='slightly negative')\n",
    "ax.bar(timestamps, vneg, width, label='very negative')\n",
    "\n",
    "ax.set_xlabel('Time')\n",
    "ax.set_ylabel('Count of tweets')\n",
    "ax.set_title('Sentiment Over Time 2013')\n",
    "\n",
    "ax.legend()\n",
    "plt.show()\n"
   ]
  },
  {
   "cell_type": "code",
   "execution_count": 158,
   "metadata": {},
   "outputs": [
    {
     "data": {
      "image/png": "[encoded data removed]",
      "text/plain": [
       "<Figure size 1800x720 with 1 Axes>"
      ]
     },
     "metadata": {
      "needs_background": "light"
     },
     "output_type": "display_data"
    },
    {
     "data": {
      "text/plain": [
       "<Figure size 7200x7200 with 0 Axes>"
      ]
     },
     "metadata": {},
     "output_type": "display_data"
    }
   ],
   "source": [
    "width = 0.35 \n",
    "\n",
    "fig, ax = plt.subplots(figsize=(25, 10))\n",
    "\n",
    "timestamps = [\"22:20:00 - 23:20:00\",\"23:20:00 - 00:20:00\",\"00:20:00 - 01:20:00\",\"1:20:00 - 02:20:00\",\"2:20:00 - 03:20:00\",\"3:20:00 - 04:20:00\",\n",
    "\"4:20:00 - 05:20:00\",\"5:20:00 - 06:20:00\",\"6:20:00 - 07:20:00\",\"7:20:00 - 08:20:00\"]\n",
    "\n",
    "neutral = [time11_n, time21_n,time31_n,time41_n,time51_n, time61_n,time71_n,time81_n,time91_n, time101_n]\n",
    "spos = [time11_sp, time21_sp,time31_sp,time41_sp,time51_sp, time61_sp,time71_sp,time81_sp, time91_sp, time101_sp]\n",
    "vpos = [time11_vp, time21_vp,time31_vp,time41_vp,time51_vp,time61_vp,time71_vp,time81_vp,time91_vp,time101_vp]\n",
    "sneg = [time11_sn, time21_sn,time31_sn,time41_sn,time51_sn,time61_sn,time71_sn,time81_sn,time91_sn,time101_sn]\n",
    "vneg = [time11_vn, time21_vn,time31_vn,time41_vn,time51_vn,time61_vn,time71_vn,time81_vn,time91_vn,time101_vn]\n",
    "\n",
    "ax.bar(timestamps, neutral, width, label='neutral')\n",
    "ax.bar(timestamps, spos, width, label='slightly positive')\n",
    "ax.bar(timestamps, vpos, width, label='very positive')\n",
    "ax.bar(timestamps, sneg, width, label='slightly negative')\n",
    "ax.bar(timestamps, vneg, width, label='very negative')\n",
    "\n",
    "ax.set_xlabel('Time')\n",
    "ax.set_ylabel('Count of tweets')\n",
    "ax.set_title('Sentiment Over Time 2015')\n",
    "\n",
    "ax.legend()\n",
    "plt.figure(figsize=(100,100))\n",
    "plt.show()"
   ]
  },
  {
   "cell_type": "markdown",
   "metadata": {},
   "source": [
    "In this code, we used TextBlob's sentiment property to extract polarity from tweets. The polarity of a statement ranges from -1 to 1, where negative values are negative sentiment, positive values are positive sentiment, and a 0 is neutral. After creating a new column to store the polarity value, we used cutoffs to determine if the tweet was neutral (0.00 polarity), slightly positive (0, 0.50], very positive (0.5-1], slightly negative [-0.5, 0), or very negative [-1, -0.5). Then we used cutoffs to set time blocks for our stacked bar charts, which were every hour (as can be seen on the x-axis of the graphs). \n",
    "\n",
    "The graph shows that there were the most amount of tweets around 1:45 - 2:45, and the most common sentiment in tweets in all time blocks was slightly positive. Very negative and neutral tweets were rather rare, and slightly negative tweets were also not as common as positive ones. We can see from this graph that overall, sentiment regarding the Golden Globes in both 2013 and 2015 was mostly positive."
   ]
  },
  {
   "cell_type": "markdown",
   "metadata": {},
   "source": []
  }
 ],
 "metadata": {
  "interpreter": {
   "hash": "aee8b7b246df8f9039afb4144a1f6fd8d2ca17a180786b69acc140d282b71a49"
  },
  "kernelspec": {
   "display_name": "Python 3.9.12 64-bit",
   "language": "python",
   "name": "python3"
  },
  "language_info": {
   "codemirror_mode": {
    "name": "ipython",
    "version": 3
   },
   "file_extension": ".py",
   "mimetype": "text/x-python",
   "name": "python",
   "nbconvert_exporter": "python",
   "pygments_lexer": "ipython3",
   "version": "3.9.12"
  },
  "orig_nbformat": 4
 },
 "nbformat": 4,
 "nbformat_minor": 2
}
